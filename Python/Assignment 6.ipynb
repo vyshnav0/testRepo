{
 "cells": [
  {
   "cell_type": "code",
   "execution_count": 8,
   "metadata": {},
   "outputs": [
    {
     "name": "stdout",
     "output_type": "stream",
     "text": [
      "Your balance is:  100\n",
      "Your balance is:  55\n"
     ]
    }
   ],
   "source": [
    "class Account:\n",
    "    count = 0\n",
    "    balance = 0\n",
    "    def _init_(self):\n",
    "        self.balance=0\n",
    "        Account.count += 1\n",
    "    def displayBalance(self):\n",
    "        print(\"Your balance is: \", self.balance)\n",
    "    def deposit(self):\n",
    "        amount = int(input(\"Enter money to deposit.\"))\n",
    "        self.balance += amount\n",
    "        self.displayBalance()\n",
    "    def withdraw(self):\n",
    "        amount = int(input(\"Enter the amount to withdraw.\"))\n",
    "        if(amount <= self.balance):\n",
    "            self.balance -= amount\n",
    "        else:\n",
    "            print(\"Insufficient balanace.\")\n",
    "        self.displayBalance()\n",
    "        \n",
    "ac1 = Account ()\n",
    "ac1.deposit()\n",
    "ac1.withdraw()"
   ]
  },
  {
   "cell_type": "code",
   "execution_count": 7,
   "metadata": {},
   "outputs": [
    {
     "name": "stdout",
     "output_type": "stream",
     "text": [
      "14/19\n",
      "127/95\n",
      "-13/95\n",
      "42/95\n",
      "57/70\n",
      "True\n"
     ]
    }
   ],
   "source": [
    "class Rational(object):\n",
    "    def __init__(self,numer,denom):\n",
    "        self.numer = numer\n",
    "        self.denom = denom\n",
    "        self.reduce()\n",
    "\n",
    "    def numerator(self):\n",
    "        return f\"The numerator of {self} is {self.numer}\"\n",
    "\n",
    "    def denominator(self):\n",
    "        return f\"The denominator of {self} is {self.denom}\"\n",
    "\n",
    "    def __str__(self):\n",
    "        return (str(self.numer) + \"/\" + str(self.denom))\n",
    "\n",
    "    def  reduce(self):\n",
    "        div = self.gcd(self.numer,self.denom)\n",
    "        self.numer = self.numer//div\n",
    "        self.denom = self.denom//div\n",
    "\n",
    "    def gcd(self,a,b):\n",
    "        if(b==0):\n",
    "            return a\n",
    "        else:\n",
    "            return self.gcd(b,a%b)\n",
    "    \n",
    "    def __add__(self,other):\n",
    "        newNumer = self.numer*other.denom + other.numer*self.denom\n",
    "        newDenom = self.denom * other.denom\n",
    "        return Rational(newNumer,newDenom)\n",
    "    \n",
    "    def __sub__(self,other):\n",
    "        newNumer = self.numer*other.denom - other.numer*self.denom\n",
    "        newDenom = self.denom * other.denom\n",
    "        return Rational(newNumer,newDenom)\n",
    "    \n",
    "    def __mul__(self,other):\n",
    "        newNumer = self.numer*other.numer\n",
    "        newDenom = self.denom*other.denom\n",
    "        return Rational(newNumer,newDenom)\n",
    "    \n",
    "    def __truediv__(self,other):\n",
    "        newNumer = self.numer*other.denom\n",
    "        newDenom = self.denom*other.numer\n",
    "        return Rational(newNumer,newDenom)\n",
    "    \n",
    "    def __lt__(self,other):\n",
    "        num1 = self.numer*other.denom\n",
    "        num2 = self.denom*other.numer\n",
    "        if(num1<num2):\n",
    "            return \"True\"\n",
    "        elif(num1==num2):\n",
    "            return \"Equal\"\n",
    "        else:\n",
    "            return \"False\"\n",
    "        \n",
    "def main():\n",
    "    r1 = Rational(3,5)\n",
    "    r2 = Rational(14,19)\n",
    "    print(r2)\n",
    "    print(r1 + r2)\n",
    "    print(r1 - r2)\n",
    "    print(r1 * r2)\n",
    "    print(r1 / r2)\n",
    "    print(r1 < r2)\n",
    "\n",
    "main()"
   ]
  },
  {
   "cell_type": "code",
   "execution_count": null,
   "metadata": {},
   "outputs": [],
   "source": []
  }
 ],
 "metadata": {
  "kernelspec": {
   "display_name": "Python 3",
   "language": "python",
   "name": "python3"
  },
  "language_info": {
   "codemirror_mode": {
    "name": "ipython",
    "version": 3
   },
   "file_extension": ".py",
   "mimetype": "text/x-python",
   "name": "python",
   "nbconvert_exporter": "python",
   "pygments_lexer": "ipython3",
   "version": "3.10.10"
  },
  "orig_nbformat": 4
 },
 "nbformat": 4,
 "nbformat_minor": 2
}
