{
 "cells": [
  {
   "cell_type": "code",
   "execution_count": 8,
   "metadata": {},
   "outputs": [
    {
     "name": "stdout",
     "output_type": "stream",
     "text": [
      "3 th score is:  92\n",
      "Average marks are:  80.75\n",
      "2 th score is:  97\n",
      "Average marks are:  96.25\n",
      "Highest mark is:  92\n",
      "Highest mark is:  100\n"
     ]
    }
   ],
   "source": [
    "from functools import reduce\n",
    "\n",
    "class classroom:\n",
    "    def __init__(self,name,roll,num):\n",
    "        self.name = name\n",
    "        self.roll = roll\n",
    "        self.mark = []\n",
    "        self.num = num\n",
    "        for i in range(self.num):\n",
    "            self.mark.append(0)\n",
    "\n",
    "    def setScore(self,i,score):\n",
    "        self.mark[i-1]=score\n",
    "    \n",
    "    def getScore(self,i):\n",
    "        print(i,\"th score is: \",self.mark[i-1])\n",
    "    \n",
    "    def getAvgScore(self):\n",
    "        sum = reduce(lambda x,y : x+y , self.mark)\n",
    "        sum /= len(self.mark)\n",
    "        print(\"Average marks are: \",sum)\n",
    "    \n",
    "    def getMaxScore(self):\n",
    "        max = reduce(lambda x,y : x if x>y else y, self.mark)\n",
    "        print(\"Highest mark is: \",max)\n",
    "    \n",
    "def main():\n",
    "    student1 = classroom(\"Arjun\",20,4)\n",
    "    student2 = classroom(\"Arju\",22,4)\n",
    "    student1.setScore(1,87)\n",
    "    student1.setScore(2,78)\n",
    "    student1.setScore(3,92)\n",
    "    student1.setScore(4,66)\n",
    "    student2.setScore(1,99)\n",
    "    student2.setScore(2,97)\n",
    "    student2.setScore(3,100)\n",
    "    student2.setScore(4,89)\n",
    "    student1.getScore(3)\n",
    "    student1.getAvgScore()\n",
    "    student2.getScore(2)\n",
    "    student2.getAvgScore()\n",
    "    student1.getMaxScore()\n",
    "    student2.getMaxScore()\n",
    "\n",
    "main()"
   ]
  },
  {
   "cell_type": "code",
   "execution_count": 14,
   "metadata": {},
   "outputs": [
    {
     "name": "stdout",
     "output_type": "stream",
     "text": [
      "Area of  Circle with radius 5  is  78.571  and its circumference is  31.429\n",
      "Area of  Circle with radius 19  is  1134.571  and its circumference is  119.429\n"
     ]
    }
   ],
   "source": [
    "class Circle:\n",
    "    pi = 22/7\n",
    "    def __init__(self,radius):\n",
    "        self.radius = radius\n",
    "\n",
    "    def area(self):\n",
    "        return round(self.pi*(self.radius**2),3)\n",
    "    \n",
    "    def circumference(self):\n",
    "        return round(2*self.pi*self.radius,3)\n",
    "    \n",
    "    def __str__(self):\n",
    "        return f\"Circle with radius {self.radius}\"\n",
    "    \n",
    "def main():\n",
    "    c1 = Circle(5)\n",
    "    c2 = Circle(19)\n",
    "    print(\"Area of \",c1,\" is \",c1.area(),\" and its circumference is \",c1.circumference())\n",
    "    print(\"Area of \",c2,\" is \",c2.area(),\" and its circumference is \",c2.circumference())\n",
    "\n",
    "main()"
   ]
  },
  {
   "cell_type": "code",
   "execution_count": 16,
   "metadata": {},
   "outputs": [
    {
     "name": "stdout",
     "output_type": "stream",
     "text": [
      "Area of 1st rectange is:  12  and that of 2nd rectange is:  2408\n"
     ]
    }
   ],
   "source": [
    "class Rectangle:\n",
    "    def __init__(self,l,b):\n",
    "        self.l = l\n",
    "        self.b = b\n",
    "\n",
    "    def area(self):\n",
    "        return self.l*self.b\n",
    "\n",
    "def main():\n",
    "    r1 = Rectangle(3,4)\n",
    "    r2 = Rectangle(43,56)\n",
    "    print(\"Area of 1st rectange is: \",r1.area(),\" and that of 2nd rectange is: \",r2.area())\n",
    "\n",
    "main()"
   ]
  }
 ],
 "metadata": {
  "kernelspec": {
   "display_name": "Python 3",
   "language": "python",
   "name": "python3"
  },
  "language_info": {
   "codemirror_mode": {
    "name": "ipython",
    "version": 3
   },
   "file_extension": ".py",
   "mimetype": "text/x-python",
   "name": "python",
   "nbconvert_exporter": "python",
   "pygments_lexer": "ipython3",
   "version": "3.10.10"
  },
  "orig_nbformat": 4
 },
 "nbformat": 4,
 "nbformat_minor": 2
}
